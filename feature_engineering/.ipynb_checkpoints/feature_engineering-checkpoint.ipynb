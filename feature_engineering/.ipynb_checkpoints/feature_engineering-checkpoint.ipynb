{
 "cells": [
  {
   "cell_type": "code",
   "execution_count": 2,
   "metadata": {},
   "outputs": [],
   "source": [
    "# This Python 3 environment comes with many helpful analytics libraries installed\n",
    "# It is defined by the kaggle/python docker image: https://github.com/kaggle/docker-python\n",
    "# For example, here's several helpful packages to load in \n",
    "\n",
    "import numpy as np # linear algebra\n",
    "import pandas as pd # data processing, CSV file I/O (e.g. pd.read_csv)\n",
    "\n",
    "# Any results you write to the current directory are saved as output."
   ]
  },
  {
   "cell_type": "code",
   "execution_count": 5,
   "metadata": {},
   "outputs": [],
   "source": [
    "data =  pd.read_csv('../data/train.csv', nrows = 15_000)\n"
   ]
  },
  {
   "cell_type": "code",
   "execution_count": 6,
   "metadata": {},
   "outputs": [],
   "source": [
    "# Given a dataframe, add two new features 'abs_diff_longitude' and\n",
    "# 'abs_diff_latitude' reprensenting the \"Manhattan vector\" from\n",
    "# the pickup location to the dropoff location.\n",
    "def add_travel_vector_features(df):\n",
    "    df['abs_diff_longitude'] = (df.dropoff_longitude - df.pickup_longitude).abs()\n",
    "    df['abs_diff_latitude'] = (df.dropoff_latitude - df.pickup_latitude).abs()\n",
    "\n",
    "add_travel_vector_features(data)"
   ]
  },
  {
   "cell_type": "code",
   "execution_count": 8,
   "metadata": {},
   "outputs": [],
   "source": [
    "from datetime import datetime\n",
    "data['datetime_object'] = [datetime.strptime(date,'%Y-%m-%d %H:%M:%S %Z') for date in data['pickup_datetime']]\n"
   ]
  },
  {
   "cell_type": "code",
   "execution_count": 9,
   "metadata": {},
   "outputs": [],
   "source": [
    "def late_night (row):\n",
    "    if (row['hour'] <= 6) or (row['hour'] >= 20):\n",
    "        return 1\n",
    "    else:\n",
    "        return 0\n",
    "\n",
    "\n",
    "def night (row):\n",
    "    if ((row['hour'] <= 20) and (row['hour'] >= 16)) and (row['weekday'] < 5):\n",
    "        return 1\n",
    "    else:\n",
    "        return 0\n",
    "    \n",
    "\n",
    "\n",
    "#data.distance_miles.hist(bins=50, figsize=(12,4))\n",
    "#plt.xlabel('distance miles')\n",
    "#plt.title('Histogram ride distances in miles')\n",
    "#data.groupby('passenger_count')['distance_miles', 'fare_amount'].mean()\n",
    "#print(\"Average $USD/Mile : {:0.2f}\".format(data.fare_amount.sum()/data.distance_miles.sum()))\n",
    "#data['fare_per_mile'] = data.fare_amount / data.distance_miles\n",
    "data['hour'] = [date.hour for date in data['datetime_object']]\n",
    "data['year'] = [date.year for date in data['datetime_object']]\n",
    "data['day'] = [date.day for date in data['datetime_object']]\n",
    "data['weekday'] = data['datetime_object'].apply(lambda x: x.weekday())\n",
    "data['night'] = data.apply (lambda x: night(x), axis=1)\n",
    "data['late_night'] = data.apply (lambda x: late_night(x), axis=1)   \n",
    "# There is a $1 surcharge from 4pm to 8pm on weekdays, excluding holidays.\n"
   ]
  },
  {
   "cell_type": "code",
   "execution_count": null,
   "metadata": {},
   "outputs": [],
   "source": [
    "rangeA = 1.5\n",
    "rangeN = 20.0\n",
    "rangeS = 48.7\n",
    "rangeR = 14.1\n",
    "rangeD = 28.7\n",
    "rangeO = 29\n",
    "rangeP = 15.7\n",
    "rangeW = 20.0\n",
    "jfk = (-73.7822222222, 40.6441666667) #JFK Airport\n",
    "ewr = (-74.175, 40.69) # Newark Liberty International Airport\n",
    "lgr = (-73.87, 40.77) # LaGuardia Airport\n",
    "\n",
    " # county\n",
    "Nassau = (-73.5594, 40.6546)\n",
    "Suffolk = (-72.6151, 40.9849)\n",
    "Westchester = (-73.7949, 41.1220)\n",
    "Rockland = (-73.9830, 41.1489)\n",
    "Dutchess = (-73.7478, 41.7784)\n",
    "Orange = (-74.3118, 41.3912)\n",
    "Putnam = (-73.7949, 41.4351) \n",
    "\n",
    "data_air=data\n",
    "\n",
    "def add_checkpoint(point, point_name,rangeA):\n",
    "    data_air[point_name] = (distance(data.pickup_latitude, data.pickup_longitude, point[1], point[0]) <= rangeA) | ((distance(data.dropoff_latitude, data.dropoff_longitude, point[1], point[0]) <= rangeA))\n",
    "    data_air[point_name].replace(False, 0, inplace=True)\n",
    "    data_air[point_name] = data_air[point_name].astype(int)\n",
    "\n",
    "add_checkpoint(jfk, 'jfk',rangeA)\n",
    "add_checkpoint(ewr, 'ewr',rangeA)\n",
    "add_checkpoint(lgr, 'lgr',rangeA)\n",
    "add_checkpoint(Nassau, 'Nassau',rangeN)\n",
    "add_checkpoint(Suffolk, 'Suffolk',rangeS)\n",
    "add_checkpoint(Westchester, 'Westchester',rangeW)\n",
    "add_checkpoint(Rockland, 'Rockland',rangeR )\n",
    "add_checkpoint(Dutchess, 'Dutchess',rangeD)\n",
    "add_checkpoint(Orange, 'Orange',rangeO)\n",
    "add_checkpoint(Putnam, 'Putnam',rangeP)\n",
    "\n",
    "data_air = data[(data_air.jfk | data_air.ewr | data_air.lgr | data_air.Nassau | data_air.Suffolk | data_air.Westchester | data_air.Rockland | data_air.Dutchess | data_air.Orange | data_air.Putnam)==1]\n",
    "data_air['airport'] = (data_air.jfk | data_air.ewr | data_air.lgr )==1\n",
    "data_air['airport'].replace(False, 0, inplace=True)\n",
    "data_air['airport'] = data_air['airport'].astype(int)\n",
    "data_air['county1'] = (data_air.jfk | data_air.ewr | data_air.lgr )==0\n",
    "data_air['county1'] = (data_air.Nassau | data_air.Westchester)==1\n",
    "data_air['county1'].replace(False, 0, inplace=True)\n",
    "data_air['county1'] = data_air['county1'].astype(int)\n",
    "data_air['county2'] = (data_air.jfk | data_air.ewr | data_air.lgr | data_air.Nassau | data_air.Westchester)==0\n",
    "data_air['county2'].replace(False, 0, inplace=True)\n",
    "data_air['county2'] = data_air['county2'].astype(int)\n",
    "data = data[(data.jfk | data.ewr | data.lgr | data.Nassau | data.Suffolk | data.Westchester | data.Rockland | data.Dutchess | data.Orange | data.Putnam)==0]\n",
    "data_air.describe()"
   ]
  }
 ],
 "metadata": {
  "kernelspec": {
   "display_name": "Python 3",
   "language": "python",
   "name": "python3"
  },
  "language_info": {
   "codemirror_mode": {
    "name": "ipython",
    "version": 3
   },
   "file_extension": ".py",
   "mimetype": "text/x-python",
   "name": "python",
   "nbconvert_exporter": "python",
   "pygments_lexer": "ipython3",
   "version": "3.6.5"
  }
 },
 "nbformat": 4,
 "nbformat_minor": 2
}

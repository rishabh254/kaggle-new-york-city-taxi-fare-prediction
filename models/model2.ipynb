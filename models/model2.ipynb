{
 "cells": [
  {
   "cell_type": "code",
   "execution_count": 3,
   "metadata": {},
   "outputs": [],
   "source": [
    "# This Python 3 environment comes with many helpful analytics libraries installed\n",
    "# It is defined by the kaggle/python docker image: https://github.com/kaggle/docker-python\n",
    "# For example, here's several helpful packages to load in \n",
    "\n",
    "import numpy as np # linear algebra\n",
    "import pandas as pd # data processing, CSV file I/O (e.g. pd.read_csv)\n",
    "# Any results you write to the current directory are saved as output."
   ]
  },
  {
   "cell_type": "code",
   "execution_count": 6,
   "metadata": {},
   "outputs": [],
   "source": [
    "train_air_df =  pd.read_csv('../data/train_air_df.csv')\n",
    "validation_air_df =  pd.read_csv('../data/validation_air_df.csv')"
   ]
  },
  {
   "cell_type": "code",
   "execution_count": 7,
   "metadata": {},
   "outputs": [],
   "source": [
    "\n",
    "import matplotlib.pyplot as plt\n",
    "from sklearn import preprocessing\n",
    "from sklearn.model_selection import train_test_split\n",
    "from keras.models import Sequential\n",
    "from keras.layers import Dense, Dropout, BatchNormalization\n",
    "from keras.callbacks import EarlyStopping\n",
    "from keras.layers import LeakyReLU\n",
    "from keras import optimizers\n",
    "from keras import regularizers\n",
    "# Scale data\n",
    "# Note: im doing this here with sklearn scaler but, on the Coursera code the scaling is done with Dataflow and Tensorflow\n",
    "scaler = preprocessing.MinMaxScaler()\n",
    "train_air_df_scaled = scaler.fit_transform(train_air_df)\n",
    "validation_air_df_scaled = scaler.transform(validation_air_df)"
   ]
  },
  {
   "cell_type": "code",
   "execution_count": 9,
   "metadata": {},
   "outputs": [],
   "source": [
    "BATCH_SIZE = 256\n",
    "EPOCHS = 5\n",
    "LEARNING_RATE = 0.0001\n",
    "DATASET_SIZE = 6000000\n",
    "\n",
    "model_air = Sequential()\n",
    "model_air.add(Dense(256, activation='relu', input_dim=train_air_df_scaled.shape[1], activity_regularizer=regularizers.l1(0.01)))\n",
    "model_air.add(BatchNormalization())\n",
    "model_air.add(Dense(128, activation='relu'))\n",
    "model_air.add(BatchNormalization())\n",
    "model_air.add(Dense(64, activation='relu'))\n",
    "model_air.add(BatchNormalization())\n",
    "model_air.add(Dense(32, activation='relu'))\n",
    "model_air.add(BatchNormalization())\n",
    "model_air.add(Dense(16, activation='relu'))\n",
    "model_air.add(BatchNormalization())\n",
    "model_air.add(Dense(1))\n",
    "\n",
    "adam = optimizers.adam(lr=LEARNING_RATE)\n",
    "model_air.compile(loss='mse', optimizer=adam, metrics=['mae'])"
   ]
  },
  {
   "cell_type": "code",
   "execution_count": null,
   "metadata": {},
   "outputs": [],
   "source": [
    "print('Dataset size: %s' % DATASET_SIZE)\n",
    "print('Epochs: %s' % EPOCHS)\n",
    "print('Learning rate: %s' % LEARNING_RATE)\n",
    "print('Batch size: %s' % BATCH_SIZE)\n",
    "print('Input dimension: %s' % train_air_df_scaled.shape[1])\n",
    "print('Features used: %s' % train_air_df.columns)\n",
    "model_air.summary()\n",
    "history_air = model_air.fit(x=train_air_df_scaled, y=train_air_labels, batch_size=BATCH_SIZE, epochs=EPOCHS*2, \n",
    "                    verbose=1, validation_data=(validation_air_df_scaled, validation_air_labels), \n",
    "                    shuffle=True)\n"
   ]
  }
 ],
 "metadata": {
  "kernelspec": {
   "display_name": "Python 3",
   "language": "python",
   "name": "python3"
  },
  "language_info": {
   "codemirror_mode": {
    "name": "ipython",
    "version": 3
   },
   "file_extension": ".py",
   "mimetype": "text/x-python",
   "name": "python",
   "nbconvert_exporter": "python",
   "pygments_lexer": "ipython3",
   "version": "3.6.5"
  }
 },
 "nbformat": 4,
 "nbformat_minor": 2
}
